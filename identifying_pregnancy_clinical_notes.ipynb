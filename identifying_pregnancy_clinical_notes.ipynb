{
 "cells": [
  {
   "cell_type": "markdown",
   "metadata": {},
   "source": [
    "# Identifying Pregnancy in Clinical Notes"
   ]
  },
  {
   "cell_type": "markdown",
   "metadata": {},
   "source": [
    "This project uses a large language model to assess whether a clinical note discusses a patient's pregnancy."
   ]
  },
  {
   "cell_type": "code",
   "execution_count": 1,
   "metadata": {},
   "outputs": [],
   "source": [
    "import kaggle\n",
    "import os\n",
    "import zipfile\n",
    "import pandas as pd\n",
    "import numpy as np\n",
    "import matplotlib.pyplot as plt\n",
    "from sklearn.model_selection import train_test_split\n",
    "from sklearn.metrics import accuracy_score, recall_score, precision_score, f1_score\n",
    "import torch\n",
    "from transformers import BertTokenizer, BertForSequenceClassification\n",
    "from transformers import TrainingArguments, Trainer\n",
    "import gradio as gr\n",
    "pd.set_option('display.max_columns', None)"
   ]
  },
  {
   "cell_type": "markdown",
   "metadata": {},
   "source": [
    "## Load Data"
   ]
  },
  {
   "cell_type": "markdown",
   "metadata": {},
   "source": [
    "Download the data from Kaggle. Details can be viewed at https://www.kaggle.com/datasets/tboyle10/medicaltranscriptions/."
   ]
  },
  {
   "cell_type": "code",
   "execution_count": 2,
   "metadata": {},
   "outputs": [],
   "source": [
    "kaggle.api.dataset_download_files('tboyle10/medicaltranscriptions/')"
   ]
  },
  {
   "cell_type": "markdown",
   "metadata": {},
   "source": [
    "Unzip the file."
   ]
  },
  {
   "cell_type": "code",
   "execution_count": 3,
   "metadata": {},
   "outputs": [
    {
     "name": "stdout",
     "output_type": "stream",
     "text": [
      "['mtsamples.csv']\n"
     ]
    }
   ],
   "source": [
    "directory = os.getcwd()\n",
    "file = 'medicaltranscriptions.zip'\n",
    "\n",
    "with zipfile.ZipFile(os.path.join(directory, file), 'r') as zip_ref:\n",
    "    zip_ref.extractall(directory)\n",
    "    csv = zip_ref.namelist()\n",
    "    print(csv)"
   ]
  },
  {
   "cell_type": "markdown",
   "metadata": {},
   "source": [
    "Read in the data."
   ]
  },
  {
   "cell_type": "code",
   "execution_count": 4,
   "metadata": {},
   "outputs": [],
   "source": [
    "df = pd.read_csv(csv[0])"
   ]
  },
  {
   "cell_type": "markdown",
   "metadata": {},
   "source": [
    "## Explore and Clean Data"
   ]
  },
  {
   "cell_type": "code",
   "execution_count": 5,
   "metadata": {},
   "outputs": [
    {
     "data": {
      "text/html": [
       "<div>\n",
       "<style scoped>\n",
       "    .dataframe tbody tr th:only-of-type {\n",
       "        vertical-align: middle;\n",
       "    }\n",
       "\n",
       "    .dataframe tbody tr th {\n",
       "        vertical-align: top;\n",
       "    }\n",
       "\n",
       "    .dataframe thead th {\n",
       "        text-align: right;\n",
       "    }\n",
       "</style>\n",
       "<table border=\"1\" class=\"dataframe\">\n",
       "  <thead>\n",
       "    <tr style=\"text-align: right;\">\n",
       "      <th></th>\n",
       "      <th>Unnamed: 0</th>\n",
       "      <th>description</th>\n",
       "      <th>medical_specialty</th>\n",
       "      <th>sample_name</th>\n",
       "      <th>transcription</th>\n",
       "      <th>keywords</th>\n",
       "    </tr>\n",
       "  </thead>\n",
       "  <tbody>\n",
       "    <tr>\n",
       "      <th>0</th>\n",
       "      <td>0</td>\n",
       "      <td>A 23-year-old white female presents with comp...</td>\n",
       "      <td>Allergy / Immunology</td>\n",
       "      <td>Allergic Rhinitis</td>\n",
       "      <td>SUBJECTIVE:,  This 23-year-old white female pr...</td>\n",
       "      <td>allergy / immunology, allergic rhinitis, aller...</td>\n",
       "    </tr>\n",
       "    <tr>\n",
       "      <th>1</th>\n",
       "      <td>1</td>\n",
       "      <td>Consult for laparoscopic gastric bypass.</td>\n",
       "      <td>Bariatrics</td>\n",
       "      <td>Laparoscopic Gastric Bypass Consult - 2</td>\n",
       "      <td>PAST MEDICAL HISTORY:, He has difficulty climb...</td>\n",
       "      <td>bariatrics, laparoscopic gastric bypass, weigh...</td>\n",
       "    </tr>\n",
       "  </tbody>\n",
       "</table>\n",
       "</div>"
      ],
      "text/plain": [
       "   Unnamed: 0                                        description  \\\n",
       "0           0   A 23-year-old white female presents with comp...   \n",
       "1           1           Consult for laparoscopic gastric bypass.   \n",
       "\n",
       "       medical_specialty                                sample_name  \\\n",
       "0   Allergy / Immunology                         Allergic Rhinitis    \n",
       "1             Bariatrics   Laparoscopic Gastric Bypass Consult - 2    \n",
       "\n",
       "                                       transcription  \\\n",
       "0  SUBJECTIVE:,  This 23-year-old white female pr...   \n",
       "1  PAST MEDICAL HISTORY:, He has difficulty climb...   \n",
       "\n",
       "                                            keywords  \n",
       "0  allergy / immunology, allergic rhinitis, aller...  \n",
       "1  bariatrics, laparoscopic gastric bypass, weigh...  "
      ]
     },
     "execution_count": 5,
     "metadata": {},
     "output_type": "execute_result"
    }
   ],
   "source": [
    "df.head(2)"
   ]
  },
  {
   "cell_type": "markdown",
   "metadata": {},
   "source": [
    "Remove records with missing values."
   ]
  },
  {
   "cell_type": "code",
   "execution_count": 6,
   "metadata": {},
   "outputs": [
    {
     "name": "stdout",
     "output_type": "stream",
     "text": [
      "Original number of records: 4999\n",
      "New number of records: 3898\n"
     ]
    }
   ],
   "source": [
    "old_n = df.shape[0]\n",
    "df = df.dropna()\n",
    "new_n = df.shape[0]\n",
    "\n",
    "print(f'Original number of records: {old_n}')\n",
    "print(f'New number of records: {new_n}')"
   ]
  },
  {
   "cell_type": "markdown",
   "metadata": {},
   "source": [
    "Check the number of words in the clinical notes. Large language models typically limit the number of tokens that can be input (a word can be one or more tokens)."
   ]
  },
  {
   "cell_type": "code",
   "execution_count": 7,
   "metadata": {},
   "outputs": [
    {
     "data": {
      "image/png": "[encoded data removed]",
      "text/plain": [
       "<Figure size 400x200 with 1 Axes>"
      ]
     },
     "metadata": {},
     "output_type": "display_data"
    }
   ],
   "source": [
    "df['transcription_word_count'] = df['transcription'].apply(lambda x:len(x.split()))\n",
    "\n",
    "plt.figure(figsize=(4, 2))\n",
    "plt.hist(df['transcription_word_count'], bins=30, color='#0A2463', edgecolor='none')\n",
    "plt.title('Histogram of Word Count')\n",
    "plt.xlabel('Word Count')\n",
    "plt.ylabel('Frequency')\n",
    "plt.show()"
   ]
  },
  {
   "cell_type": "markdown",
   "metadata": {},
   "source": [
    "Note that not all encounters classified as OB/GYN are about pregnancy. For example, some are for mammograms."
   ]
  },
  {
   "cell_type": "code",
   "execution_count": 8,
   "metadata": {},
   "outputs": [
    {
     "data": {
      "text/html": [
       "<div>\n",
       "<style scoped>\n",
       "    .dataframe tbody tr th:only-of-type {\n",
       "        vertical-align: middle;\n",
       "    }\n",
       "\n",
       "    .dataframe tbody tr th {\n",
       "        vertical-align: top;\n",
       "    }\n",
       "\n",
       "    .dataframe thead th {\n",
       "        text-align: right;\n",
       "    }\n",
       "</style>\n",
       "<table border=\"1\" class=\"dataframe\">\n",
       "  <thead>\n",
       "    <tr style=\"text-align: right;\">\n",
       "      <th></th>\n",
       "      <th>Unnamed: 0</th>\n",
       "      <th>description</th>\n",
       "      <th>medical_specialty</th>\n",
       "      <th>sample_name</th>\n",
       "      <th>transcription</th>\n",
       "      <th>keywords</th>\n",
       "      <th>transcription_word_count</th>\n",
       "    </tr>\n",
       "  </thead>\n",
       "  <tbody>\n",
       "    <tr>\n",
       "      <th>2552</th>\n",
       "      <td>2552</td>\n",
       "      <td>Consultation for an ASCUS Pap smear.</td>\n",
       "      <td>Obstetrics / Gynecology</td>\n",
       "      <td>OB/GYN Consultation - 3</td>\n",
       "      <td>Pap smear in November 2006 showed atypical squ...</td>\n",
       "      <td>obstetrics / gynecology, lmp, ascus, pap smear...</td>\n",
       "      <td>537</td>\n",
       "    </tr>\n",
       "    <tr>\n",
       "      <th>2607</th>\n",
       "      <td>2607</td>\n",
       "      <td>Mammogram, bilateral full-field digital mammo...</td>\n",
       "      <td>Obstetrics / Gynecology</td>\n",
       "      <td>Full-Field Digital Mammogram (FFDM) - 2</td>\n",
       "      <td>EXAM: , Screening full-field digital mammogram...</td>\n",
       "      <td>obstetrics / gynecology, digital mammography, ...</td>\n",
       "      <td>251</td>\n",
       "    </tr>\n",
       "  </tbody>\n",
       "</table>\n",
       "</div>"
      ],
      "text/plain": [
       "      Unnamed: 0                                        description  \\\n",
       "2552        2552               Consultation for an ASCUS Pap smear.   \n",
       "2607        2607   Mammogram, bilateral full-field digital mammo...   \n",
       "\n",
       "             medical_specialty                                sample_name  \\\n",
       "2552   Obstetrics / Gynecology                   OB/GYN Consultation - 3    \n",
       "2607   Obstetrics / Gynecology   Full-Field Digital Mammogram (FFDM) - 2    \n",
       "\n",
       "                                          transcription  \\\n",
       "2552  Pap smear in November 2006 showed atypical squ...   \n",
       "2607  EXAM: , Screening full-field digital mammogram...   \n",
       "\n",
       "                                               keywords  \\\n",
       "2552  obstetrics / gynecology, lmp, ascus, pap smear...   \n",
       "2607  obstetrics / gynecology, digital mammography, ...   \n",
       "\n",
       "      transcription_word_count  \n",
       "2552                       537  \n",
       "2607                       251  "
      ]
     },
     "execution_count": 8,
     "metadata": {},
     "output_type": "execute_result"
    }
   ],
   "source": [
    "df[(df['medical_specialty'] == ' Obstetrics / Gynecology') & df['keywords'].str.contains('mammogram')].head(2)"
   ]
  },
  {
   "cell_type": "markdown",
   "metadata": {},
   "source": [
    "Similarly, not all encounters about pregnancy are classified as OB/GYN. For example, some are classified as surgeries."
   ]
  },
  {
   "cell_type": "code",
   "execution_count": 9,
   "metadata": {},
   "outputs": [
    {
     "data": {
      "text/html": [
       "<div>\n",
       "<style scoped>\n",
       "    .dataframe tbody tr th:only-of-type {\n",
       "        vertical-align: middle;\n",
       "    }\n",
       "\n",
       "    .dataframe tbody tr th {\n",
       "        vertical-align: top;\n",
       "    }\n",
       "\n",
       "    .dataframe thead th {\n",
       "        text-align: right;\n",
       "    }\n",
       "</style>\n",
       "<table border=\"1\" class=\"dataframe\">\n",
       "  <thead>\n",
       "    <tr style=\"text-align: right;\">\n",
       "      <th></th>\n",
       "      <th>Unnamed: 0</th>\n",
       "      <th>description</th>\n",
       "      <th>medical_specialty</th>\n",
       "      <th>sample_name</th>\n",
       "      <th>transcription</th>\n",
       "      <th>keywords</th>\n",
       "      <th>transcription_word_count</th>\n",
       "    </tr>\n",
       "  </thead>\n",
       "  <tbody>\n",
       "    <tr>\n",
       "      <th>206</th>\n",
       "      <td>206</td>\n",
       "      <td>Vacuum-assisted vaginal delivery of a third-d...</td>\n",
       "      <td>Surgery</td>\n",
       "      <td>Vaginal Delivery - Vacuum-Assisted</td>\n",
       "      <td>PREOPERATIVE DIAGNOSES,1.  A 40 weeks 6 days i...</td>\n",
       "      <td>surgery, intrauterine pregnancy, non-reassurin...</td>\n",
       "      <td>620</td>\n",
       "    </tr>\n",
       "    <tr>\n",
       "      <th>310</th>\n",
       "      <td>310</td>\n",
       "      <td>Missed abortion.  Suction, dilation, and cure...</td>\n",
       "      <td>Surgery</td>\n",
       "      <td>Suction, Dilation, &amp; Curettage</td>\n",
       "      <td>PREOPERATIVE DIAGNOSIS: , Missed abortion.,POS...</td>\n",
       "      <td>surgery, missed abortion, intrauterine pregnan...</td>\n",
       "      <td>345</td>\n",
       "    </tr>\n",
       "  </tbody>\n",
       "</table>\n",
       "</div>"
      ],
      "text/plain": [
       "     Unnamed: 0                                        description  \\\n",
       "206         206   Vacuum-assisted vaginal delivery of a third-d...   \n",
       "310         310   Missed abortion.  Suction, dilation, and cure...   \n",
       "\n",
       "    medical_specialty                           sample_name  \\\n",
       "206           Surgery   Vaginal Delivery - Vacuum-Assisted    \n",
       "310           Surgery       Suction, Dilation, & Curettage    \n",
       "\n",
       "                                         transcription  \\\n",
       "206  PREOPERATIVE DIAGNOSES,1.  A 40 weeks 6 days i...   \n",
       "310  PREOPERATIVE DIAGNOSIS: , Missed abortion.,POS...   \n",
       "\n",
       "                                              keywords  \\\n",
       "206  surgery, intrauterine pregnancy, non-reassurin...   \n",
       "310  surgery, missed abortion, intrauterine pregnan...   \n",
       "\n",
       "     transcription_word_count  \n",
       "206                       620  \n",
       "310                       345  "
      ]
     },
     "execution_count": 9,
     "metadata": {},
     "output_type": "execute_result"
    }
   ],
   "source": [
    "df[(df['medical_specialty'] == ' Surgery') & df['keywords'].str.contains('pregnancy')].head(2)"
   ]
  },
  {
   "cell_type": "markdown",
   "metadata": {},
   "source": [
    "There is potential business value in being able to classify future notes as being about pregnancy or not. To do this, we will train a large language model to predict whether a clinical note discusses a patient's pregnancy."
   ]
  },
  {
   "cell_type": "markdown",
   "metadata": {},
   "source": [
    "Use keywords to construct a label for training. Note, there is severe class imbalance in the label."
   ]
  },
  {
   "cell_type": "code",
   "execution_count": 10,
   "metadata": {},
   "outputs": [
    {
     "data": {
      "text/plain": [
       "pregnancy\n",
       "0    3778\n",
       "1     120\n",
       "Name: count, dtype: int64"
      ]
     },
     "execution_count": 10,
     "metadata": {},
     "output_type": "execute_result"
    }
   ],
   "source": [
    "columns = ['description', 'sample_name', 'keywords']\n",
    "df['pregnancy'] = df.apply(lambda row: 1 if any(('fetal' in str(row[col]).lower() or\n",
    "                                                 'fetus' in str(row[col]).lower() or\n",
    "                                                 'pregnancy' in str(row[col]).lower() or\n",
    "                                                 'pregnant' in str(row[col]).lower() or\n",
    "                                                 'c-section' in str(row[col]).lower() or\n",
    "                                                 'vaginal delivery' in str(row[col]).lower() or\n",
    "                                                 'abortion' in str(row[col]).lower() or\n",
    "                                                 'gestation' in str(row[col]).lower() or\n",
    "                                                 'prenatal' in str(row[col]).lower() or\n",
    "                                                 'postpartum' in str(row[col]).lower() or\n",
    "                                                 'childbirth' in str(row[col]).lower() or\n",
    "                                                 'child birth' in str(row[col]).lower() or\n",
    "                                                 'placenta' in str(row[col]).lower() or\n",
    "                                                 'eclampsia' in str(row[col]).lower()) for col in columns) else 0, axis=1)\n",
    "df['pregnancy'].value_counts(dropna=False)"
   ]
  },
  {
   "cell_type": "markdown",
   "metadata": {},
   "source": [
    "Address class imbalance by upsampling the minority class and downsampling the majority class."
   ]
  },
  {
   "cell_type": "code",
   "execution_count": 11,
   "metadata": {},
   "outputs": [
    {
     "data": {
      "text/plain": [
       "pregnancy\n",
       "0    1000\n",
       "1     500\n",
       "Name: count, dtype: int64"
      ]
     },
     "execution_count": 11,
     "metadata": {},
     "output_type": "execute_result"
    }
   ],
   "source": [
    "class_0 = df[df['pregnancy'] == 0]\n",
    "class_1 = df[df['pregnancy'] == 1]\n",
    "\n",
    "upsampled_class_1 = class_1.sample(n=500, replace=True, random_state=42)\n",
    "downsampled_class_0 = class_0.sample(n=1000, random_state=42)\n",
    "df = pd.concat([downsampled_class_0, upsampled_class_1]).sample(frac=1, random_state=42).reset_index(drop=True)\n",
    "df['pregnancy'].value_counts(dropna=False)"
   ]
  },
  {
   "cell_type": "markdown",
   "metadata": {},
   "source": [
    "Add some synthetic data to further augment the minority class. The following fake notes were generated by ChatGPT 3.5 using the prompt \"Non-randomly generate 50 brief fake clinical notes, each no more than 20 words, about patients who had a pregnancy.  Organize them in a pandas dataframe with two columns: 'transcription' (where you put the fake note as a string), and 'pregnancy' (which should take the value 1).\""
   ]
  },
  {
   "cell_type": "code",
   "execution_count": 12,
   "metadata": {},
   "outputs": [
    {
     "data": {
      "text/plain": [
       "pregnancy\n",
       "0    1000\n",
       "1     548\n",
       "Name: count, dtype: int64"
      ]
     },
     "execution_count": 12,
     "metadata": {},
     "output_type": "execute_result"
    }
   ],
   "source": [
    "synthetic_data = [\n",
    "    \"Patient had a healthy full-term pregnancy.\",\n",
    "    \"Prenatal care included regular check-ups and ultrasounds.\",\n",
    "    \"Mother and baby both in good health post-delivery.\",\n",
    "    \"Patient experienced normal pregnancy symptoms.\",\n",
    "    \"Delivery went smoothly with no complications.\",\n",
    "    \"Mother and newborn are doing well after childbirth.\",\n",
    "    \"Routine prenatal tests were conducted.\",\n",
    "    \"Patient followed recommended dietary guidelines during pregnancy.\",\n",
    "    \"Postpartum check-up scheduled for next month.\",\n",
    "    \"Congratulations! A new addition to the family.\",\n",
    "    \"Antenatal classes helped prepare for childbirth.\",\n",
    "    \"Patient had a positive pregnancy test result.\",\n",
    "    \"Maternal health monitored throughout the gestation period.\",\n",
    "    \"Baby's first cry brought joy to the delivery room.\",\n",
    "    \"Patient is now a proud parent after successful pregnancy.\",\n",
    "    \"No complications reported during the labor and delivery.\",\n",
    "    \"Patient experienced typical pregnancy cravings.\",\n",
    "    \"Regular fetal monitoring ensured a healthy pregnancy.\",\n",
    "    \"Pregnancy was confirmed through ultrasound imaging.\",\n",
    "    \"Newborn passed all initial health assessments.\",\n",
    "    \"Patient received prenatal vitamins and supplements.\",\n",
    "    \"Postpartum support provided for the new mother.\",\n",
    "    \"Patient expressed excitement and joy about impending parenthood.\",\n",
    "    \"Delivery room staff provided compassionate care.\",\n",
    "    \"Maternal and infant bonding emphasized during postpartum care.\",\n",
    "    \"Patient opted for a natural childbirth experience.\",\n",
    "    \"Ultrasound revealed a healthy fetal heartbeat.\",\n",
    "    \"Patient attended prenatal education classes.\",\n",
    "    \"Baby's first milestones celebrated by the family.\",\n",
    "    \"Pregnancy journey documented with regular medical check-ups.\",\n",
    "    \"Patient reported normal weight gain during pregnancy.\",\n",
    "    \"Obstetrician provided guidance on prenatal exercises.\",\n",
    "    \"Mother and baby shared a special moment during skin-to-skin contact.\",\n",
    "    \"Patient chose a personalized birthing plan.\",\n",
    "    \"Pregnancy was a positive and transformative experience.\",\n",
    "    \"Delivery room team ensured a comfortable birthing environment.\",\n",
    "    \"Baby's first vaccinations scheduled for the coming weeks.\",\n",
    "    \"Patient's support system played a crucial role during pregnancy.\",\n",
    "    \"Pregnancy-related discomforts were managed with care.\",\n",
    "    \"Motherhood journey officially began with a healthy delivery.\",\n",
    "    \"Patient expressed gratitude for the exceptional prenatal care.\",\n",
    "    \"Newborn's first pediatrician appointment scheduled.\",\n",
    "    \"Patient adhered to recommended prenatal vaccination schedule.\",\n",
    "    \"Family eagerly awaited the arrival of the newest member.\",\n",
    "    \"Maternity ward staff provided nurturing care postpartum.\",\n",
    "    \"Pregnancy announcement brought joy to family and friends.\",\n",
    "    \"Patient documented pregnancy milestones in a journal.\",\n",
    "    \"Postpartum recovery progressing as expected.\",\n",
    "]\n",
    "\n",
    "synthetic_data = pd.DataFrame({'transcription': synthetic_data, 'pregnancy': 1})\n",
    "df = pd.concat([df, synthetic_data], axis=0)\n",
    "df['pregnancy'].value_counts(dropna=False)\n"
   ]
  },
  {
   "cell_type": "markdown",
   "metadata": {},
   "source": [
    "Add some additional synthetic data containing common-sense examples for the model to learn from."
   ]
  },
  {
   "cell_type": "code",
   "execution_count": 13,
   "metadata": {},
   "outputs": [
    {
     "data": {
      "text/plain": [
       "pregnancy\n",
       "0    1016\n",
       "1     568\n",
       "Name: count, dtype: int64"
      ]
     },
     "execution_count": 13,
     "metadata": {},
     "output_type": "execute_result"
    }
   ],
   "source": [
    "synthetic_data = {\n",
    "    'This note is about pregnancy':1,\n",
    "    'This note is not about pregnancy':0,\n",
    "    'This note does not discuss pregnancy':0,\n",
    "    'This note has nothing to do with pregnancy':0,\n",
    "    'This note is about topics other than pregnancy':0,\n",
    "    'Pregnancy is not mentioned in this note':0,\n",
    "    'Pregnancy is not the topic of this note':0,\n",
    "    'Discussion of a chronic condition unrelated to pregnancy':0,\n",
    "    'A pregnant woman with a pre-existing medical condition is being monitored':1,\n",
    "    'A woman with a pre-existing medical condition is being monitored':0,\n",
    "    'The patient is pregnant':1,\n",
    "    'The patient is breastfeeding':1,\n",
    "    'She is in labor and having contractions':1,\n",
    "    'The patient is 8 months pregnant':1,\n",
    "    'She has concerns about this pregnancy':1,\n",
    "    'The patient has high cholesterol':0,\n",
    "    'The patient has hypertension':0,\n",
    "    'The patient has a broken arm':0,\n",
    "    'The patient has high cholesterol and no other health conditions':0,\n",
    "    'The patient has hypertension and no other health conditions':0,\n",
    "    'The patient has a broken arm and no other health conditions':0,\n",
    "    'The patient has high cholesterol and is pregnant':1,\n",
    "    'The patient has hypertension and is pregnant':1,\n",
    "    'The patient has a broken arm and is pregnant':1,\n",
    "    'The patient presented with a fever and nausea':0,\n",
    "    'The patient presented with a fever and nausea. They are pregnant':1,\n",
    "    'The patient is on several medications':0,\n",
    "    'The patient is on several medications. They are pregnant':1,\n",
    "    'The patient had a c-section':1,\n",
    "    'The patient had a vaginal delivery':1,\n",
    "    'She had similar episodes in prior pregnancies':1,\n",
    "    'Vaginal bleeding during pregnancy':1,\n",
    "    'Mom is taking prenatal vitamins':1,\n",
    "    'This visit is to provide prenatal care':1,\n",
    "    'The pregnancy test was positive.':1,\n",
    "    'She has pre-eclampsia.':1\n",
    "}\n",
    "\n",
    "synthetic_data = pd.DataFrame(list(synthetic_data.items()), columns=['transcription', 'pregnancy'])\n",
    "df = pd.concat([df, synthetic_data], axis=0)\n",
    "df['pregnancy'].value_counts(dropna=False)"
   ]
  },
  {
   "cell_type": "markdown",
   "metadata": {},
   "source": [
    "## Fine Tune a Large Language Model"
   ]
  },
  {
   "cell_type": "markdown",
   "metadata": {},
   "source": [
    "Useful resources:\n",
    "- https://towardsdatascience.com/fine-tuning-pretrained-nlp-models-with-huggingfaces-trainer-6326a4456e7b\n",
    "- https://www.youtube.com/watch?app=desktop&v=4nNbg4bWDrQ\n",
    "- https://medium.com/@rakeshrajpurohit/customized-evaluation-metrics-with-hugging-face-trainer-3ff00d936f99\n",
    "- https://huggingface.co/docs/transformers/training"
   ]
  },
  {
   "cell_type": "markdown",
   "metadata": {},
   "source": [
    "Split the data into training, validation, and test sets. We will use 10% of the data for validation and 10% of the data for testing. Setting the random state ensures reproducability."
   ]
  },
  {
   "cell_type": "code",
   "execution_count": 14,
   "metadata": {},
   "outputs": [
    {
     "name": "stdout",
     "output_type": "stream",
     "text": [
      "Training set size: 1267\n",
      "Validation set size: 158\n",
      "Test set size: 159\n"
     ]
    }
   ],
   "source": [
    "X = list(df['transcription'])\n",
    "y = list(df['pregnancy'])\n",
    "\n",
    "train_size = 0.8\n",
    "validation_size = 0.1\n",
    "test_size = 1 - train_size - validation_size\n",
    "\n",
    "X_train, X_temp, y_train, y_temp = train_test_split(X, y, test_size=1 - train_size, stratify=y, random_state=42)\n",
    "X_valid, X_test, y_valid, y_test = train_test_split(X_temp, y_temp, test_size=validation_size / (validation_size + test_size), stratify=y_temp, random_state=42)\n",
    "\n",
    "print(f'Training set size: {len(X_train)}')\n",
    "print(f'Validation set size: {len(X_valid)}')\n",
    "print(f'Test set size: {len(X_test)}')"
   ]
  },
  {
   "cell_type": "markdown",
   "metadata": {},
   "source": [
    "Load the tokenizer and model. BERT is a widely used model that was trained on a large amount of English-language data. The Bio+Clinical BERT model was built on BERT and subsequently trained on a database of electronic health records. More information can be found at https://huggingface.co/emilyalsentzer/Bio_ClinicalBERT.\n",
    "\n",
    "It is typical to see the message \"Some weights of [the model] were not initialized...\" because the weights for the final classification layer are task-specific and need to be initialized for the use case."
   ]
  },
  {
   "cell_type": "code",
   "execution_count": 15,
   "metadata": {},
   "outputs": [
    {
     "name": "stderr",
     "output_type": "stream",
     "text": [
      "Some weights of BertForSequenceClassification were not initialized from the model checkpoint at emilyalsentzer/Bio_ClinicalBERT and are newly initialized: ['classifier.bias', 'classifier.weight']\n",
      "You should probably TRAIN this model on a down-stream task to be able to use it for predictions and inference.\n"
     ]
    }
   ],
   "source": [
    "model_name = 'emilyalsentzer/Bio_ClinicalBERT'\n",
    "tokenizer = BertTokenizer.from_pretrained(model_name)\n",
    "model = BertForSequenceClassification.from_pretrained(model_name, num_labels=2)"
   ]
  },
  {
   "cell_type": "markdown",
   "metadata": {},
   "source": [
    "If available, move the model to a GPU. It will run much faster than on a CPU."
   ]
  },
  {
   "cell_type": "code",
   "execution_count": 16,
   "metadata": {},
   "outputs": [
    {
     "name": "stdout",
     "output_type": "stream",
     "text": [
      "Using device: cuda\n"
     ]
    }
   ],
   "source": [
    "device = torch.device(\"cuda\" if torch.cuda.is_available() else \"cpu\")\n",
    "print(f\"Using device: {device}\")"
   ]
  },
  {
   "cell_type": "code",
   "execution_count": 17,
   "metadata": {},
   "outputs": [],
   "source": [
    "model.to(device);"
   ]
  },
  {
   "cell_type": "markdown",
   "metadata": {},
   "source": [
    "Tokenize the data. Tokenization refers to breaking text into small units for analysis in natural langauge processing. The BERT tokenizer uses subword tokenization, and the maximum number of tokens that BERT can take is 512."
   ]
  },
  {
   "cell_type": "code",
   "execution_count": 18,
   "metadata": {},
   "outputs": [],
   "source": [
    "X_train_tokenized = tokenizer(X_train, padding=True, truncation=True, max_length=512)\n",
    "X_valid_tokenized = tokenizer(X_valid, padding=True, truncation=True, max_length=512)\n",
    "X_test_tokenized = tokenizer(X_test, padding=True, truncation=True, max_length=512)"
   ]
  },
  {
   "cell_type": "markdown",
   "metadata": {},
   "source": [
    "Define a custom PyTorch dataset class to generate datasets designed to handle tokenized and encoded data. While tokenization refers to breaking text into small components, encoding refers to converting tokens into numbers that can be processed by the algorithm.\n",
    "\n",
    "The transformers trainer requires a `torch.utils.data.Dataset` class:\n",
    "- `__init__` method: initializes the dataset with encoded input data. The default labels parameter is set to `None` so we can make predictions on new unlabeled data.\n",
    "- `__getitem__` method: given an index, retrieves the corresponding data for that index and converts it into a PyTorch tensor.\n",
    "- `__len__` method: returns the total number of samples in the dataset."
   ]
  },
  {
   "cell_type": "code",
   "execution_count": 19,
   "metadata": {},
   "outputs": [],
   "source": [
    "class CustomDataset(torch.utils.data.Dataset):\n",
    "    def __init__(self, encodings, labels=None):\n",
    "        self.encodings = encodings\n",
    "        self.labels = labels\n",
    "\n",
    "    def __getitem__(self, idx):\n",
    "        item = {key: torch.tensor(val[idx]) for key, val in self.encodings.items()}\n",
    "        if self.labels:\n",
    "            item['labels'] = torch.tensor(self.labels[idx], dtype=torch.long)\n",
    "        return item\n",
    "\n",
    "    def __len__(self):\n",
    "        return len(self.encodings['input_ids'])"
   ]
  },
  {
   "cell_type": "markdown",
   "metadata": {},
   "source": [
    "Use the custom dataset class to create datasets for the training, validation, and test sets."
   ]
  },
  {
   "cell_type": "code",
   "execution_count": 20,
   "metadata": {},
   "outputs": [],
   "source": [
    "train_dataset = CustomDataset(X_train_tokenized, y_train)\n",
    "valid_dataset = CustomDataset(X_valid_tokenized, y_valid)\n",
    "test_dataset = CustomDataset(X_test_tokenized) # Leave the test set unlabeled"
   ]
  },
  {
   "cell_type": "markdown",
   "metadata": {},
   "source": [
    "Create a function to compute and report metrics for evaluating model performance during training. The `compute_metrics` function takes a tuple containing predictions (class probabilities) and labels, and keeps the most likely predicted class. It then calculates model performance metrics appropriate for classification tasks, and stores the results in a dictionary."
   ]
  },
  {
   "cell_type": "code",
   "execution_count": 21,
   "metadata": {},
   "outputs": [],
   "source": [
    "def compute_metrics(p):\n",
    "    pred, labels = p\n",
    "    pred = np.argmax(pred, axis=1)\n",
    "    accuracy = accuracy_score(y_true=labels, y_pred=pred)\n",
    "    recall = recall_score(y_true=labels, y_pred=pred, average='weighted')\n",
    "    precision = precision_score(y_true=labels, y_pred=pred, average='weighted')\n",
    "    f1 = f1_score(y_true=labels, y_pred=pred, average='weighted')\n",
    "    return {'accuracy': accuracy, 'precision': precision, 'recall': recall, 'f1': f1}"
   ]
  },
  {
   "cell_type": "markdown",
   "metadata": {},
   "source": [
    "Create an instsance of the `TrainingArguments` class to define model hyperparameters. There are many additional hyperparameters and options that could be used."
   ]
  },
  {
   "cell_type": "code",
   "execution_count": 22,
   "metadata": {},
   "outputs": [],
   "source": [
    "args = TrainingArguments(\n",
    "    output_dir='output',\n",
    "    evaluation_strategy='steps',\n",
    "    eval_steps=250,\n",
    "    per_device_train_batch_size=16,\n",
    "    per_device_eval_batch_size=16,\n",
    "    num_train_epochs=3,\n",
    "    seed=42,\n",
    "    load_best_model_at_end=True,\n",
    "    optim=\"adamw_torch\",\n",
    "    learning_rate=1e-5,\n",
    "    weight_decay=1e-4,\n",
    "    warmup_steps=500,\n",
    "    lr_scheduler_type='cosine',\n",
    ")"
   ]
  },
  {
   "cell_type": "markdown",
   "metadata": {},
   "source": [
    "Configure and initialize a `Trainer` object."
   ]
  },
  {
   "cell_type": "code",
   "execution_count": 23,
   "metadata": {},
   "outputs": [],
   "source": [
    "trainer = Trainer(\n",
    "    model=model,\n",
    "    args=args,\n",
    "    train_dataset=train_dataset,\n",
    "    eval_dataset=valid_dataset,\n",
    "    compute_metrics=compute_metrics,\n",
    ")"
   ]
  },
  {
   "cell_type": "markdown",
   "metadata": {},
   "source": [
    "Run the `trainer` to fine-tune the model. This takes some time."
   ]
  },
  {
   "cell_type": "code",
   "execution_count": 24,
   "metadata": {},
   "outputs": [
    {
     "data": {
      "application/vnd.jupyter.widget-view+json": {
       "model_id": "e3290a5ae1ee4cbda667079516f37cd7",
       "version_major": 2,
       "version_minor": 0
      },
      "text/plain": [
       "  0%|          | 0/240 [00:00<?, ?it/s]"
      ]
     },
     "metadata": {},
     "output_type": "display_data"
    },
    {
     "name": "stdout",
     "output_type": "stream",
     "text": [
      "{'train_runtime': 86.9186, 'train_samples_per_second': 43.731, 'train_steps_per_second': 2.761, 'train_loss': 0.4542692184448242, 'epoch': 3.0}\n"
     ]
    },
    {
     "data": {
      "text/plain": [
       "TrainOutput(global_step=240, training_loss=0.4542692184448242, metrics={'train_runtime': 86.9186, 'train_samples_per_second': 43.731, 'train_steps_per_second': 2.761, 'train_loss': 0.4542692184448242, 'epoch': 3.0})"
      ]
     },
     "execution_count": 24,
     "metadata": {},
     "output_type": "execute_result"
    }
   ],
   "source": [
    "trainer.train()"
   ]
  },
  {
   "cell_type": "markdown",
   "metadata": {},
   "source": [
    "Review the model performance metrics."
   ]
  },
  {
   "cell_type": "code",
   "execution_count": 25,
   "metadata": {},
   "outputs": [
    {
     "data": {
      "application/vnd.jupyter.widget-view+json": {
       "model_id": "544930a718be4f2dbf74f0dadb3ea4dd",
       "version_major": 2,
       "version_minor": 0
      },
      "text/plain": [
       "  0%|          | 0/80 [00:00<?, ?it/s]"
      ]
     },
     "metadata": {},
     "output_type": "display_data"
    },
    {
     "data": {
      "application/vnd.jupyter.widget-view+json": {
       "model_id": "19709ccb2f0843be8cf8926b79c2e1fa",
       "version_major": 2,
       "version_minor": 0
      },
      "text/plain": [
       "  0%|          | 0/10 [00:00<?, ?it/s]"
      ]
     },
     "metadata": {},
     "output_type": "display_data"
    },
    {
     "data": {
      "text/html": [
       "<div>\n",
       "<style scoped>\n",
       "    .dataframe tbody tr th:only-of-type {\n",
       "        vertical-align: middle;\n",
       "    }\n",
       "\n",
       "    .dataframe tbody tr th {\n",
       "        vertical-align: top;\n",
       "    }\n",
       "\n",
       "    .dataframe thead th {\n",
       "        text-align: right;\n",
       "    }\n",
       "</style>\n",
       "<table border=\"1\" class=\"dataframe\">\n",
       "  <thead>\n",
       "    <tr style=\"text-align: right;\">\n",
       "      <th></th>\n",
       "      <th>Training</th>\n",
       "      <th>Validation</th>\n",
       "    </tr>\n",
       "  </thead>\n",
       "  <tbody>\n",
       "    <tr>\n",
       "      <th>epoch</th>\n",
       "      <td>3.00</td>\n",
       "      <td>3.00</td>\n",
       "    </tr>\n",
       "    <tr>\n",
       "      <th>eval_accuracy</th>\n",
       "      <td>0.99</td>\n",
       "      <td>1.00</td>\n",
       "    </tr>\n",
       "    <tr>\n",
       "      <th>eval_f1</th>\n",
       "      <td>0.99</td>\n",
       "      <td>1.00</td>\n",
       "    </tr>\n",
       "    <tr>\n",
       "      <th>eval_loss</th>\n",
       "      <td>0.06</td>\n",
       "      <td>0.04</td>\n",
       "    </tr>\n",
       "    <tr>\n",
       "      <th>eval_precision</th>\n",
       "      <td>0.99</td>\n",
       "      <td>1.00</td>\n",
       "    </tr>\n",
       "    <tr>\n",
       "      <th>eval_recall</th>\n",
       "      <td>0.99</td>\n",
       "      <td>1.00</td>\n",
       "    </tr>\n",
       "    <tr>\n",
       "      <th>eval_runtime</th>\n",
       "      <td>9.88</td>\n",
       "      <td>1.23</td>\n",
       "    </tr>\n",
       "    <tr>\n",
       "      <th>eval_samples_per_second</th>\n",
       "      <td>128.25</td>\n",
       "      <td>128.82</td>\n",
       "    </tr>\n",
       "    <tr>\n",
       "      <th>eval_steps_per_second</th>\n",
       "      <td>8.10</td>\n",
       "      <td>8.15</td>\n",
       "    </tr>\n",
       "  </tbody>\n",
       "</table>\n",
       "</div>"
      ],
      "text/plain": [
       "                         Training  Validation\n",
       "epoch                        3.00        3.00\n",
       "eval_accuracy                0.99        1.00\n",
       "eval_f1                      0.99        1.00\n",
       "eval_loss                    0.06        0.04\n",
       "eval_precision               0.99        1.00\n",
       "eval_recall                  0.99        1.00\n",
       "eval_runtime                 9.88        1.23\n",
       "eval_samples_per_second    128.25      128.82\n",
       "eval_steps_per_second        8.10        8.15"
      ]
     },
     "execution_count": 25,
     "metadata": {},
     "output_type": "execute_result"
    }
   ],
   "source": [
    "train_metrics = trainer.evaluate(train_dataset)\n",
    "valid_metrics = trainer.evaluate(valid_dataset)\n",
    "train_metrics_df = pd.DataFrame({\"Training\": train_metrics})\n",
    "valid_metrics_df = pd.DataFrame({\"Validation\": valid_metrics})\n",
    "metrics_df = pd.concat([train_metrics_df.round(2), valid_metrics_df.round(2)], axis=1)\n",
    "metrics_df"
   ]
  },
  {
   "cell_type": "markdown",
   "metadata": {},
   "source": [
    "Save the model and tokenizer."
   ]
  },
  {
   "cell_type": "code",
   "execution_count": 26,
   "metadata": {},
   "outputs": [],
   "source": [
    "model_path = 'identifying_pregnancy_clinical_notes_model'\n",
    "tokenizer.save_pretrained(model_path)\n",
    "trainer.save_model(model_path)"
   ]
  },
  {
   "cell_type": "markdown",
   "metadata": {},
   "source": [
    "## Make Predictions on the Test Set"
   ]
  },
  {
   "cell_type": "markdown",
   "metadata": {},
   "source": [
    "We already tokenized the test set and created a `CustomDataset` called `test_dataset`, so the data is ready to be modeled."
   ]
  },
  {
   "cell_type": "markdown",
   "metadata": {},
   "source": [
    "Load the trained model."
   ]
  },
  {
   "cell_type": "code",
   "execution_count": 27,
   "metadata": {},
   "outputs": [],
   "source": [
    "model_path = 'identifying_pregnancy_clinical_notes_model'\n",
    "tokenizer = BertTokenizer.from_pretrained(model_path)\n",
    "model = BertForSequenceClassification.from_pretrained(model_path, num_labels=2)"
   ]
  },
  {
   "cell_type": "markdown",
   "metadata": {},
   "source": [
    "Define the test trainer. Since we're just making predictions, we will use the default configurations."
   ]
  },
  {
   "cell_type": "code",
   "execution_count": 28,
   "metadata": {},
   "outputs": [],
   "source": [
    "test_trainer = Trainer(model)"
   ]
  },
  {
   "cell_type": "markdown",
   "metadata": {},
   "source": [
    "Make predictions. The raw result is an array containing vectors with one score for each of the possible assigned classes."
   ]
  },
  {
   "cell_type": "code",
   "execution_count": 29,
   "metadata": {},
   "outputs": [
    {
     "data": {
      "application/vnd.jupyter.widget-view+json": {
       "model_id": "e839fae4a1964ee7a6c59652df587beb",
       "version_major": 2,
       "version_minor": 0
      },
      "text/plain": [
       "  0%|          | 0/20 [00:00<?, ?it/s]"
      ]
     },
     "metadata": {},
     "output_type": "display_data"
    }
   ],
   "source": [
    "raw_pred, _, _ = test_trainer.predict(test_dataset)"
   ]
  },
  {
   "cell_type": "markdown",
   "metadata": {},
   "source": [
    "Compare the actuals from the test set against the predictions. We will use the `compute_metrics` function that we defined for model fine-tuning."
   ]
  },
  {
   "cell_type": "code",
   "execution_count": 30,
   "metadata": {},
   "outputs": [
    {
     "data": {
      "text/html": [
       "<div>\n",
       "<style scoped>\n",
       "    .dataframe tbody tr th:only-of-type {\n",
       "        vertical-align: middle;\n",
       "    }\n",
       "\n",
       "    .dataframe tbody tr th {\n",
       "        vertical-align: top;\n",
       "    }\n",
       "\n",
       "    .dataframe thead th {\n",
       "        text-align: right;\n",
       "    }\n",
       "</style>\n",
       "<table border=\"1\" class=\"dataframe\">\n",
       "  <thead>\n",
       "    <tr style=\"text-align: right;\">\n",
       "      <th>y_test</th>\n",
       "      <th>0</th>\n",
       "      <th>1</th>\n",
       "    </tr>\n",
       "    <tr>\n",
       "      <th>y_pred</th>\n",
       "      <th></th>\n",
       "      <th></th>\n",
       "    </tr>\n",
       "  </thead>\n",
       "  <tbody>\n",
       "    <tr>\n",
       "      <th>0</th>\n",
       "      <td>98</td>\n",
       "      <td>0</td>\n",
       "    </tr>\n",
       "    <tr>\n",
       "      <th>1</th>\n",
       "      <td>4</td>\n",
       "      <td>57</td>\n",
       "    </tr>\n",
       "  </tbody>\n",
       "</table>\n",
       "</div>"
      ],
      "text/plain": [
       "y_test   0   1\n",
       "y_pred        \n",
       "0       98   0\n",
       "1        4  57"
      ]
     },
     "execution_count": 30,
     "metadata": {},
     "output_type": "execute_result"
    }
   ],
   "source": [
    "y_pred = np.argmax(raw_pred, axis=1)\n",
    "\n",
    "confusion_matrix = pd.crosstab(pd.Series(y_pred, name='y_pred'), pd.Series(y_test, name='y_test'))\n",
    "confusion_matrix"
   ]
  },
  {
   "cell_type": "code",
   "execution_count": 31,
   "metadata": {},
   "outputs": [
    {
     "data": {
      "text/html": [
       "<div>\n",
       "<style scoped>\n",
       "    .dataframe tbody tr th:only-of-type {\n",
       "        vertical-align: middle;\n",
       "    }\n",
       "\n",
       "    .dataframe tbody tr th {\n",
       "        vertical-align: top;\n",
       "    }\n",
       "\n",
       "    .dataframe thead th {\n",
       "        text-align: right;\n",
       "    }\n",
       "</style>\n",
       "<table border=\"1\" class=\"dataframe\">\n",
       "  <thead>\n",
       "    <tr style=\"text-align: right;\">\n",
       "      <th></th>\n",
       "      <th>Metric</th>\n",
       "      <th>Value</th>\n",
       "    </tr>\n",
       "  </thead>\n",
       "  <tbody>\n",
       "    <tr>\n",
       "      <th>0</th>\n",
       "      <td>accuracy</td>\n",
       "      <td>0.974843</td>\n",
       "    </tr>\n",
       "    <tr>\n",
       "      <th>1</th>\n",
       "      <td>precision</td>\n",
       "      <td>0.976492</td>\n",
       "    </tr>\n",
       "    <tr>\n",
       "      <th>2</th>\n",
       "      <td>recall</td>\n",
       "      <td>0.974843</td>\n",
       "    </tr>\n",
       "    <tr>\n",
       "      <th>3</th>\n",
       "      <td>f1</td>\n",
       "      <td>0.975018</td>\n",
       "    </tr>\n",
       "  </tbody>\n",
       "</table>\n",
       "</div>"
      ],
      "text/plain": [
       "      Metric     Value\n",
       "0   accuracy  0.974843\n",
       "1  precision  0.976492\n",
       "2     recall  0.974843\n",
       "3         f1  0.975018"
      ]
     },
     "execution_count": 31,
     "metadata": {},
     "output_type": "execute_result"
    }
   ],
   "source": [
    "test_tuple = (raw_pred, np.array(y_test))\n",
    "\n",
    "metrics = compute_metrics(test_tuple)\n",
    "metrics_df = pd.DataFrame(metrics, index=[0])\n",
    "metrics_df = metrics_df.T.reset_index()\n",
    "metrics_df.columns = ['Metric', 'Value']\n",
    "metrics_df"
   ]
  },
  {
   "cell_type": "markdown",
   "metadata": {},
   "source": [
    "## Develop an App"
   ]
  },
  {
   "cell_type": "markdown",
   "metadata": {},
   "source": [
    "We will use Gradio to let users input text and get predictions from the model. Gradio can be hosted on HuggingFace spaces.\n",
    "\n",
    "Useful resources:\n",
    "- https://www.gradio.app/guides/controlling-layout\n",
    "- https://www.youtube.com/watch?v=bN9WTxzLBRE\n",
    "- https://www.youtube.com/watch?v=dzS97S698H0"
   ]
  },
  {
   "cell_type": "code",
   "execution_count": null,
   "metadata": {},
   "outputs": [
    {
     "name": "stdout",
     "output_type": "stream",
     "text": [
      "Running on local URL:  http://127.0.0.1:7864\n",
      "\n",
      "To create a public link, set `share=True` in `launch()`.\n"
     ]
    },
    {
     "data": {
      "text/html": [
       "<div><iframe src=\"http://127.0.0.1:7864/\" width=\"100%\" height=\"500\" allow=\"autoplay; camera; microphone; clipboard-read; clipboard-write;\" frameborder=\"0\" allowfullscreen></iframe></div>"
      ],
      "text/plain": [
       "<IPython.core.display.HTML object>"
      ]
     },
     "metadata": {},
     "output_type": "display_data"
    },
    {
     "data": {
      "text/plain": []
     },
     "execution_count": 5,
     "metadata": {},
     "output_type": "execute_result"
    },
    {
     "name": "stderr",
     "output_type": "stream",
     "text": [
      "Exception in thread Thread-42:\n",
      "Traceback (most recent call last):\n",
      "  File \"/Users/ellie/Library/Python/3.9/lib/python/site-packages/httpcore/_exceptions.py\", line 10, in map_exceptions\n",
      "    yield\n",
      "  File \"/Users/ellie/Library/Python/3.9/lib/python/site-packages/httpcore/_backends/sync.py\", line 168, in start_tls\n",
      "    raise exc\n",
      "  File \"/Users/ellie/Library/Python/3.9/lib/python/site-packages/httpcore/_backends/sync.py\", line 163, in start_tls\n",
      "    sock = ssl_context.wrap_socket(\n",
      "  File \"/Library/Developer/CommandLineTools/Library/Frameworks/Python3.framework/Versions/3.9/lib/python3.9/ssl.py\", line 500, in wrap_socket\n",
      "    return self.sslsocket_class._create(\n",
      "  File \"/Library/Developer/CommandLineTools/Library/Frameworks/Python3.framework/Versions/3.9/lib/python3.9/ssl.py\", line 1040, in _create\n",
      "    self.do_handshake()\n",
      "  File \"/Library/Developer/CommandLineTools/Library/Frameworks/Python3.framework/Versions/3.9/lib/python3.9/ssl.py\", line 1309, in do_handshake\n",
      "    self._sslobj.do_handshake()\n",
      "socket.timeout: _ssl.c:1112: The handshake operation timed out\n",
      "\n",
      "The above exception was the direct cause of the following exception:\n",
      "\n",
      "Traceback (most recent call last):\n",
      "  File \"/Users/ellie/Library/Python/3.9/lib/python/site-packages/httpx/_transports/default.py\", line 66, in map_httpcore_exceptions\n",
      "    yield\n",
      "  File \"/Users/ellie/Library/Python/3.9/lib/python/site-packages/httpx/_transports/default.py\", line 228, in handle_request\n",
      "    resp = self._pool.handle_request(req)\n",
      "  File \"/Users/ellie/Library/Python/3.9/lib/python/site-packages/httpcore/_sync/connection_pool.py\", line 268, in handle_request\n",
      "    raise exc\n",
      "  File \"/Users/ellie/Library/Python/3.9/lib/python/site-packages/httpcore/_sync/connection_pool.py\", line 251, in handle_request\n",
      "    response = connection.handle_request(request)\n",
      "  File \"/Users/ellie/Library/Python/3.9/lib/python/site-packages/httpcore/_sync/connection.py\", line 99, in handle_request\n",
      "    raise exc\n",
      "  File \"/Users/ellie/Library/Python/3.9/lib/python/site-packages/httpcore/_sync/connection.py\", line 76, in handle_request\n",
      "    stream = self._connect(request)\n",
      "  File \"/Users/ellie/Library/Python/3.9/lib/python/site-packages/httpcore/_sync/connection.py\", line 156, in _connect\n",
      "    stream = stream.start_tls(**kwargs)\n",
      "  File \"/Users/ellie/Library/Python/3.9/lib/python/site-packages/httpcore/_backends/sync.py\", line 168, in start_tls\n",
      "    raise exc\n",
      "  File \"/Library/Developer/CommandLineTools/Library/Frameworks/Python3.framework/Versions/3.9/lib/python3.9/contextlib.py\", line 135, in __exit__\n",
      "    self.gen.throw(type, value, traceback)\n",
      "  File \"/Users/ellie/Library/Python/3.9/lib/python/site-packages/httpcore/_exceptions.py\", line 14, in map_exceptions\n",
      "    raise to_exc(exc) from exc\n",
      "httpcore.ConnectTimeout: _ssl.c:1112: The handshake operation timed out\n",
      "\n",
      "The above exception was the direct cause of the following exception:\n",
      "\n",
      "Traceback (most recent call last):\n",
      "  File \"/Library/Developer/CommandLineTools/Library/Frameworks/Python3.framework/Versions/3.9/lib/python3.9/threading.py\", line 973, in _bootstrap_inner\n",
      "    self.run()\n",
      "  File \"/Library/Developer/CommandLineTools/Library/Frameworks/Python3.framework/Versions/3.9/lib/python3.9/threading.py\", line 910, in run\n",
      "    self._target(*self._args, **self._kwargs)\n",
      "  File \"/Users/ellie/Library/Python/3.9/lib/python/site-packages/gradio/analytics.py\", line 61, in _do_normal_analytics_request\n",
      "Exception in thread Thread-40:\n",
      "Traceback (most recent call last):\n",
      "  File \"/Users/ellie/Library/Python/3.9/lib/python/site-packages/httpcore/_exceptions.py\", line 10, in map_exceptions\n",
      "    data[\"ip_address\"] = get_local_ip_address()\n",
      "  File \"/Users/ellie/Library/Python/3.9/lib/python/site-packages/gradio/analytics.py\", line 117, in get_local_ip_address\n",
      "    yield\n",
      "  File \"/Users/ellie/Library/Python/3.9/lib/python/site-packages/httpcore/_backends/sync.py\", line 168, in start_tls\n",
      "    ip_address = httpx.get(\n",
      "  File \"/Users/ellie/Library/Python/3.9/lib/python/site-packages/httpx/_api.py\", line 189, in get\n",
      "    raise exc\n",
      "  File \"/Users/ellie/Library/Python/3.9/lib/python/site-packages/httpcore/_backends/sync.py\", line 163, in start_tls\n",
      "    return request(\n",
      "  File \"/Users/ellie/Library/Python/3.9/lib/python/site-packages/httpx/_api.py\", line 100, in request\n",
      "    sock = ssl_context.wrap_socket(\n",
      "  File \"/Library/Developer/CommandLineTools/Library/Frameworks/Python3.framework/Versions/3.9/lib/python3.9/ssl.py\", line 500, in wrap_socket\n",
      "    return client.request(\n",
      "  File \"/Users/ellie/Library/Python/3.9/lib/python/site-packages/httpx/_client.py\", line 814, in request\n",
      "    return self.sslsocket_class._create(\n",
      "  File \"/Library/Developer/CommandLineTools/Library/Frameworks/Python3.framework/Versions/3.9/lib/python3.9/ssl.py\", line 1040, in _create\n",
      "    self.do_handshake()\n",
      "  File \"/Library/Developer/CommandLineTools/Library/Frameworks/Python3.framework/Versions/3.9/lib/python3.9/ssl.py\", line 1309, in do_handshake\n",
      "    self._sslobj.do_handshake()\n",
      "socket.timeout: _ssl.c:1112: The handshake operation timed out\n",
      "\n",
      "The above exception was the direct cause of the following exception:\n",
      "\n",
      "Traceback (most recent call last):\n",
      "  File \"/Users/ellie/Library/Python/3.9/lib/python/site-packages/httpx/_transports/default.py\", line 66, in map_httpcore_exceptions\n",
      "    return self.send(request, auth=auth, follow_redirects=follow_redirects)\n",
      "  File \"/Users/ellie/Library/Python/3.9/lib/python/site-packages/httpx/_client.py\", line 901, in send\n",
      "    yield\n",
      "  File \"/Users/ellie/Library/Python/3.9/lib/python/site-packages/httpx/_transports/default.py\", line 228, in handle_request\n",
      "    response = self._send_handling_auth(\n",
      "  File \"/Users/ellie/Library/Python/3.9/lib/python/site-packages/httpx/_client.py\", line 929, in _send_handling_auth\n",
      "    resp = self._pool.handle_request(req)\n",
      "  File \"/Users/ellie/Library/Python/3.9/lib/python/site-packages/httpcore/_sync/connection_pool.py\", line 268, in handle_request\n",
      "    response = self._send_handling_redirects(\n",
      "  File \"/Users/ellie/Library/Python/3.9/lib/python/site-packages/httpx/_client.py\", line 966, in _send_handling_redirects\n",
      "    raise exc\n",
      "  File \"/Users/ellie/Library/Python/3.9/lib/python/site-packages/httpcore/_sync/connection_pool.py\", line 251, in handle_request\n",
      "    response = self._send_single_request(request)\n",
      "  File \"/Users/ellie/Library/Python/3.9/lib/python/site-packages/httpx/_client.py\", line 1002, in _send_single_request\n",
      "    response = connection.handle_request(request)\n",
      "  File \"/Users/ellie/Library/Python/3.9/lib/python/site-packages/httpcore/_sync/connection.py\", line 99, in handle_request\n",
      "    raise exc\n",
      "  File \"/Users/ellie/Library/Python/3.9/lib/python/site-packages/httpcore/_sync/connection.py\", line 76, in handle_request\n",
      "    response = transport.handle_request(request)\n",
      "  File \"/Users/ellie/Library/Python/3.9/lib/python/site-packages/httpx/_transports/default.py\", line 228, in handle_request\n",
      "    stream = self._connect(request)\n",
      "  File \"/Users/ellie/Library/Python/3.9/lib/python/site-packages/httpcore/_sync/connection.py\", line 156, in _connect\n",
      "    resp = self._pool.handle_request(req)\n",
      "  File \"/Library/Developer/CommandLineTools/Library/Frameworks/Python3.framework/Versions/3.9/lib/python3.9/contextlib.py\", line 135, in __exit__\n",
      "    stream = stream.start_tls(**kwargs)\n",
      "  File \"/Users/ellie/Library/Python/3.9/lib/python/site-packages/httpcore/_backends/sync.py\", line 168, in start_tls\n",
      "    self.gen.throw(type, value, traceback)\n",
      "  File \"/Users/ellie/Library/Python/3.9/lib/python/site-packages/httpx/_transports/default.py\", line 83, in map_httpcore_exceptions\n",
      "    raise exc\n",
      "  File \"/Library/Developer/CommandLineTools/Library/Frameworks/Python3.framework/Versions/3.9/lib/python3.9/contextlib.py\", line 135, in __exit__\n",
      "    raise mapped_exc(message) from exc\n",
      "httpx.ConnectTimeout: _ssl.c:1112: The handshake operation timed out\n",
      "    self.gen.throw(type, value, traceback)\n",
      "  File \"/Users/ellie/Library/Python/3.9/lib/python/site-packages/httpcore/_exceptions.py\", line 14, in map_exceptions\n",
      "    raise to_exc(exc) from exc\n",
      "httpcore.ConnectTimeout: _ssl.c:1112: The handshake operation timed out\n",
      "\n",
      "The above exception was the direct cause of the following exception:\n",
      "\n",
      "Traceback (most recent call last):\n",
      "  File \"/Library/Developer/CommandLineTools/Library/Frameworks/Python3.framework/Versions/3.9/lib/python3.9/threading.py\", line 973, in _bootstrap_inner\n",
      "    self.run()\n",
      "  File \"/Library/Developer/CommandLineTools/Library/Frameworks/Python3.framework/Versions/3.9/lib/python3.9/threading.py\", line 910, in run\n",
      "    self._target(*self._args, **self._kwargs)\n",
      "  File \"/Users/ellie/Library/Python/3.9/lib/python/site-packages/gradio/analytics.py\", line 61, in _do_normal_analytics_request\n",
      "    data[\"ip_address\"] = get_local_ip_address()\n",
      "  File \"/Users/ellie/Library/Python/3.9/lib/python/site-packages/gradio/analytics.py\", line 117, in get_local_ip_address\n",
      "    ip_address = httpx.get(\n",
      "  File \"/Users/ellie/Library/Python/3.9/lib/python/site-packages/httpx/_api.py\", line 189, in get\n",
      "    return request(\n",
      "  File \"/Users/ellie/Library/Python/3.9/lib/python/site-packages/httpx/_api.py\", line 100, in request\n",
      "    return client.request(\n",
      "  File \"/Users/ellie/Library/Python/3.9/lib/python/site-packages/httpx/_client.py\", line 814, in request\n",
      "    return self.send(request, auth=auth, follow_redirects=follow_redirects)\n",
      "  File \"/Users/ellie/Library/Python/3.9/lib/python/site-packages/httpx/_client.py\", line 901, in send\n",
      "    response = self._send_handling_auth(\n",
      "  File \"/Users/ellie/Library/Python/3.9/lib/python/site-packages/httpx/_client.py\", line 929, in _send_handling_auth\n",
      "    response = self._send_handling_redirects(\n",
      "  File \"/Users/ellie/Library/Python/3.9/lib/python/site-packages/httpx/_client.py\", line 966, in _send_handling_redirects\n",
      "    response = self._send_single_request(request)\n",
      "  File \"/Users/ellie/Library/Python/3.9/lib/python/site-packages/httpx/_client.py\", line 1002, in _send_single_request\n",
      "    response = transport.handle_request(request)\n",
      "  File \"/Users/ellie/Library/Python/3.9/lib/python/site-packages/httpx/_transports/default.py\", line 228, in handle_request\n",
      "    resp = self._pool.handle_request(req)\n",
      "  File \"/Library/Developer/CommandLineTools/Library/Frameworks/Python3.framework/Versions/3.9/lib/python3.9/contextlib.py\", line 135, in __exit__\n",
      "    self.gen.throw(type, value, traceback)\n",
      "  File \"/Users/ellie/Library/Python/3.9/lib/python/site-packages/httpx/_transports/default.py\", line 83, in map_httpcore_exceptions\n",
      "    raise mapped_exc(message) from exc\n",
      "httpx.ConnectTimeout: _ssl.c:1112: The handshake operation timed out\n"
     ]
    }
   ],
   "source": [
    "model_path = 'identifying_pregnancy_clinical_notes_model'\n",
    "tokenizer = BertTokenizer.from_pretrained(model_path)\n",
    "model = BertForSequenceClassification.from_pretrained(model_path, num_labels=2)\n",
    "\n",
    "def predict(text):\n",
    "\n",
    "    inputs = tokenizer(text, return_tensors=\"pt\")\n",
    "    num_tokens = inputs['input_ids'].size(1)\n",
    "\n",
    "    if num_tokens <= 512:\n",
    "\n",
    "        outputs = model(**inputs)\n",
    "\n",
    "        predicted_class_id = torch.argmax(outputs.logits).item()\n",
    "        probability_of_predicted_class = round(torch.nn.functional.softmax(outputs.logits, dim=1)[0, predicted_class_id].item(),2)\n",
    "\n",
    "        if (predicted_class_id == 0) & (probability_of_predicted_class >= 0.5):\n",
    "            predicted_class_label = \"No, the note does not discuss the patient's pregnancy based on the model's assessment.\"\n",
    "        elif (predicted_class_id == 1) & (probability_of_predicted_class >= 0.8):\n",
    "            predicted_class_label = \"Yes, the note discusses the patient's pregnancy based on the model's assessment.\"\n",
    "        else:\n",
    "            predicted_class_label = \"The model was unable to determine with high certainty whether or not the note discusses the patient's pregnancy. Please provide additional text or a different note.\"\n",
    "        \n",
    "        return predicted_class_label\n",
    "    \n",
    "    else:\n",
    "        \n",
    "        error_message = 'Unfortunately the model is limited in how much text it can process at once. Please enter a shorter note.'\n",
    "\n",
    "        return error_message\n",
    "\n",
    "with gr.Blocks() as interface:\n",
    "    gr.Markdown(\"<h1 align='center'>Identifying Pregnancy in Clinical Notes</h1>\")\n",
    "    gr.Markdown(\"<p align='center'>Use this app to classify a clinical note as discussing or not discussing the patient's pregnancy.</p>\")\n",
    "    with gr.Row():\n",
    "        with gr.Column():\n",
    "            inputs = gr.Textbox(label='Input a clinical note here:', lines=4)\n",
    "            button = gr.Button('Assess Note')\n",
    "            gr.Examples(['The patient is pregnant.', 'She has high cholesterol and hypertension.', 'Normal vaginal delivery.', 'Fetus development normal.', 'Presented with nausea.', 'Broken arm and leg.'], inputs)\n",
    "        with gr.Column():\n",
    "            outputs=gr.Textbox(label=\"Does the note discuss the patient's pregnancy?\", lines=4)\n",
    "            button.click(fn=predict, inputs=inputs, outputs=outputs, queue=False)\n",
    "    gr.Markdown(\"<p align='center'>Model fine-tuned from <a href='https://huggingface.co/emilyalsentzer/Bio_ClinicalBERT' target='_blank'> Bio+ClinicalBERT </a>.</p>\")\n",
    "\n",
    "interface.launch()"
   ]
  }
 ],
 "metadata": {
  "kernelspec": {
   "display_name": "Python 3",
   "language": "python",
   "name": "python3"
  },
  "language_info": {
   "codemirror_mode": {
    "name": "ipython",
    "version": 3
   },
   "file_extension": ".py",
   "mimetype": "text/x-python",
   "name": "python",
   "nbconvert_exporter": "python",
   "pygments_lexer": "ipython3",
   "version": "3.9.6"
  }
 },
 "nbformat": 4,
 "nbformat_minor": 2
}
